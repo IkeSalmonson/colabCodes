{
  "nbformat": 4,
  "nbformat_minor": 0,
  "metadata": {
    "colab": {
      "provenance": [],
      "authorship_tag": "ABX9TyPgztFTL8YydV6FL06xLUCZ",
      "include_colab_link": true
    },
    "kernelspec": {
      "name": "python3",
      "display_name": "Python 3"
    },
    "language_info": {
      "name": "python"
    }
  },
  "cells": [
    {
      "cell_type": "markdown",
      "metadata": {
        "id": "view-in-github",
        "colab_type": "text"
      },
      "source": [
        "<a href=\"https://colab.research.google.com/github/IkeSalmonson/colabCodes/blob/main/DesignPattern_LinkedIn.ipynb\" target=\"_parent\"><img src=\"https://colab.research.google.com/assets/colab-badge.svg\" alt=\"Open In Colab\"/></a>"
      ]
    },
    {
      "cell_type": "markdown",
      "source": [
        "Design Pattern Examples from LinedIn Course:\n",
        " <br> [<b>Advanced Python: Build Hands-On Projects with Design Patterns </b> <br>\n",
        " ](https://www.linkedin.com/learning/advanced-python-build-hands-on-projects-with-design-patterns/builder-pattern-example?autoSkip=true&resume=false)"
      ],
      "metadata": {
        "id": "El1IzEcCl9G2"
      }
    },
    {
      "cell_type": "markdown",
      "source": [
        "## Builder Pattern"
      ],
      "metadata": {
        "id": "9lD6JPU8mYJn"
      }
    },
    {
      "cell_type": "code",
      "execution_count": 5,
      "metadata": {
        "id": "QBESdeYqlu8k"
      },
      "outputs": [],
      "source": [
        "class Director():\n",
        "  \"\"\"Director\"\"\"\n",
        "  def __init__(self, builder):\n",
        "    self._builder = builder\n",
        "\n",
        "  def construct_car(self):\n",
        "    self._builder.create_new_car()\n",
        "    self._builder.add_model()\n",
        "    self._builder.add_tires()\n",
        "    self._builder.add_engine()\n",
        "\n",
        "  def get_car(self):\n",
        "    return self._builder.car\n",
        "\n",
        "\n",
        "class Builder():\n",
        "  \"\"\"Abstract Builder\"\"\"\n",
        "  def __init__(self):\n",
        "    self.car = None\n",
        "\n",
        "  def create_new_car(self):\n",
        "    self.car = Car()\n",
        "\n",
        "class SkyLarkBuilder(Builder):\n",
        "  \"\"\"Concrete Builder --> provides parts and tools to work on the parts\"\"\"\n",
        "  def add_model(self):\n",
        "    self.car.model = 'SkyLark'\n",
        "\n",
        "  def add_tires(self):\n",
        "    self.car.tires = 'Regular tires'\n",
        "\n",
        "  def add_engine(self):\n",
        "    self.car.engine = 'Turbo engine'\n",
        "\n",
        "class Car():\n",
        "  \"\"\"Product\"\"\"\n",
        "  def __init__(self):\n",
        "    self.model = None\n",
        "    self.tires = None\n",
        "    self.engine = None\n",
        "\n",
        "  def __str__(self):\n",
        "    return '{} | {} | {}'.format(self.model,self.tires, self.engine)\n",
        "\n",
        "\n"
      ]
    },
    {
      "cell_type": "code",
      "source": [
        "builder = SkyLarkBuilder()\n",
        "director = Director(builder)\n",
        "director.construct_car()\n",
        "car = director.get_car()\n",
        "print(car)"
      ],
      "metadata": {
        "colab": {
          "base_uri": "https://localhost:8080/"
        },
        "id": "yfZSIIgcoYJe",
        "outputId": "41c101cd-d0f1-4aac-c973-ce90b169ca7d"
      },
      "execution_count": 6,
      "outputs": [
        {
          "output_type": "stream",
          "name": "stdout",
          "text": [
            "SkyLark | Regular tires | Turbo engine\n"
          ]
        }
      ]
    },
    {
      "cell_type": "markdown",
      "source": [
        "#"
      ],
      "metadata": {
        "id": "aReola2xpFUT"
      }
    }
  ]
}