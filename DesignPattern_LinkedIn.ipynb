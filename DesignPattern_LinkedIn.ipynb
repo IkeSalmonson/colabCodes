{
  "nbformat": 4,
  "nbformat_minor": 0,
  "metadata": {
    "colab": {
      "provenance": [],
      "toc_visible": true,
      "authorship_tag": "ABX9TyPvtrOjS9ZgAon0IyAGLKpW",
      "include_colab_link": true
    },
    "kernelspec": {
      "name": "python3",
      "display_name": "Python 3"
    },
    "language_info": {
      "name": "python"
    }
  },
  "cells": [
    {
      "cell_type": "markdown",
      "metadata": {
        "id": "view-in-github",
        "colab_type": "text"
      },
      "source": [
        "<a href=\"https://colab.research.google.com/github/IkeSalmonson/colabCodes/blob/main/DesignPattern_LinkedIn.ipynb\" target=\"_parent\"><img src=\"https://colab.research.google.com/assets/colab-badge.svg\" alt=\"Open In Colab\"/></a>"
      ]
    },
    {
      "cell_type": "markdown",
      "source": [
        "Design Pattern Examples from LinedIn Course:\n",
        " <br> [<b>Advanced Python: Build Hands-On Projects with Design Patterns </b> <br>\n",
        " ](https://www.linkedin.com/learning/advanced-python-build-hands-on-projects-with-design-patterns/builder-pattern-example?autoSkip=true&resume=false)"
      ],
      "metadata": {
        "id": "El1IzEcCl9G2"
      }
    },
    {
      "cell_type": "markdown",
      "source": [
        "## Builder Pattern"
      ],
      "metadata": {
        "id": "9lD6JPU8mYJn"
      }
    },
    {
      "cell_type": "code",
      "execution_count": 5,
      "metadata": {
        "id": "QBESdeYqlu8k"
      },
      "outputs": [],
      "source": [
        "class Director():\n",
        "  \"\"\"Director\"\"\"\n",
        "  def __init__(self, builder):\n",
        "    self._builder = builder\n",
        "\n",
        "  def construct_car(self):\n",
        "    self._builder.create_new_car()\n",
        "    self._builder.add_model()\n",
        "    self._builder.add_tires()\n",
        "    self._builder.add_engine()\n",
        "\n",
        "  def get_car(self):\n",
        "    return self._builder.car\n",
        "\n",
        "\n",
        "class Builder():\n",
        "  \"\"\"Abstract Builder\"\"\"\n",
        "  def __init__(self):\n",
        "    self.car = None\n",
        "\n",
        "  def create_new_car(self):\n",
        "    self.car = Car()\n",
        "\n",
        "class SkyLarkBuilder(Builder):\n",
        "  \"\"\"Concrete Builder --> provides parts and tools to work on the parts\"\"\"\n",
        "  def add_model(self):\n",
        "    self.car.model = 'SkyLark'\n",
        "\n",
        "  def add_tires(self):\n",
        "    self.car.tires = 'Regular tires'\n",
        "\n",
        "  def add_engine(self):\n",
        "    self.car.engine = 'Turbo engine'\n",
        "\n",
        "class Car():\n",
        "  \"\"\"Product\"\"\"\n",
        "  def __init__(self):\n",
        "    self.model = None\n",
        "    self.tires = None\n",
        "    self.engine = None\n",
        "\n",
        "  def __str__(self):\n",
        "    return '{} | {} | {}'.format(self.model,self.tires, self.engine)\n",
        "\n",
        "\n"
      ]
    },
    {
      "cell_type": "code",
      "source": [
        "builder = SkyLarkBuilder()\n",
        "director = Director(builder)\n",
        "director.construct_car()\n",
        "car = director.get_car()\n",
        "print(car)"
      ],
      "metadata": {
        "colab": {
          "base_uri": "https://localhost:8080/"
        },
        "id": "yfZSIIgcoYJe",
        "outputId": "41c101cd-d0f1-4aac-c973-ce90b169ca7d"
      },
      "execution_count": 6,
      "outputs": [
        {
          "output_type": "stream",
          "name": "stdout",
          "text": [
            "SkyLark | Regular tires | Turbo engine\n"
          ]
        }
      ]
    },
    {
      "cell_type": "markdown",
      "source": [
        "## Adapter Pattern"
      ],
      "metadata": {
        "id": "aReola2xpFUT"
      }
    },
    {
      "cell_type": "code",
      "source": [
        "class Korean:\n",
        "   def __init__(self):\n",
        "    self.name= \"Korean\"\n",
        "\n",
        "   def speak_korean(self):\n",
        "    return \"An-neyong?\"\n",
        "\n",
        "class British:\n",
        "  def __init__(self):\n",
        "    self.name = \"British\"\n",
        "\n",
        "  def speak_english(self):\n",
        "    return \"Hello!\"\n",
        "\n",
        "class Adapter:\n",
        "  \"\"\"Change generic methods to individualized method names \"\"\"\n",
        "  def __init__(self,object, **adapted_method):\n",
        "    self._object = object\n",
        "    ## Map for  generic method to concrete\n",
        "    self.__dict__.update(adapted_method)\n",
        "  def __getattr__(self,attr):\n",
        "    return getattr(self._object, attr)\n",
        "\n",
        "\n"
      ],
      "metadata": {
        "id": "8yeh1qJOvaqk"
      },
      "execution_count": 7,
      "outputs": []
    },
    {
      "cell_type": "code",
      "source": [
        "objects = []\n",
        "\n",
        "korean = Korean()\n",
        "\n",
        "british = British()\n",
        "\n",
        "objects.append(Adapter(korean, speak=korean.speak_korean))\n",
        "objects.append(Adapter(british, speak=british.speak_english))\n",
        "\n",
        "for obj in objects:\n",
        "  print(\"{} says '{}'\\n\".format(obj.name, obj.speak()))"
      ],
      "metadata": {
        "colab": {
          "base_uri": "https://localhost:8080/"
        },
        "id": "MJHlRRIAvam7",
        "outputId": "044ad5e1-e062-451a-9b25-3d5323088c34"
      },
      "execution_count": 8,
      "outputs": [
        {
          "output_type": "stream",
          "name": "stdout",
          "text": [
            "Korean says 'An-neyong?'\n",
            "\n",
            "British says 'Hello!'\n",
            "\n"
          ]
        }
      ]
    },
    {
      "cell_type": "markdown",
      "source": [
        "##Command Pattern"
      ],
      "metadata": {
        "id": "Kkw5uk5z0f0R"
      }
    },
    {
      "cell_type": "code",
      "source": [
        "class Command():\n",
        "  def execute(self):\n",
        "    pass\n",
        "\n",
        "class Copy(Command):\n",
        " def execute(self):\n",
        "    print(\"Copy\")\n",
        "\n",
        "class Paste(Command):\n",
        " def execute(self):\n",
        "    print(\"Paste\")\n",
        "\n",
        "class Save(Command):\n",
        " def execute(self):\n",
        "    print(\"Save\")\n",
        "\n",
        "class Macro():\n",
        "  \"\"\"Invoker mechanism to call all commands\"\"\"\n",
        "  def __init__(self):\n",
        "    self._commands = []\n",
        "\n",
        "  def add(self, command):\n",
        "    self._commands.append(command)\n",
        "\n",
        "  def execute(self):\n",
        "    for command in self._commands:\n",
        "      command.execute()\n"
      ],
      "metadata": {
        "id": "fLAZwnxm0nca"
      },
      "execution_count": 9,
      "outputs": []
    },
    {
      "cell_type": "code",
      "source": [
        "macro =Macro()\n",
        "macro.add(Copy())\n",
        "macro.add(Paste())\n",
        "macro.add(Save())\n",
        "macro.execute()"
      ],
      "metadata": {
        "colab": {
          "base_uri": "https://localhost:8080/"
        },
        "id": "7VPMWv_90nlL",
        "outputId": "f39c6d76-6070-4ed7-c237-c0513f8c0423"
      },
      "execution_count": 10,
      "outputs": [
        {
          "output_type": "stream",
          "name": "stdout",
          "text": [
            "Copy\n",
            "Paste\n",
            "Save\n"
          ]
        }
      ]
    },
    {
      "cell_type": "markdown",
      "source": [
        "## Interceptor Validator Pattern"
      ],
      "metadata": {
        "id": "DmX3AoBD-ATo"
      }
    },
    {
      "cell_type": "code",
      "source": [
        "class InterceptValidator:\n",
        "  def __init__(self) -> None:\n",
        "    self._validator = None\n",
        "    self._input = 2 #'t' ##Input to be Validated\n",
        "\n",
        "  def set_validator(self,validator):\n",
        "    self._validator = validator\n",
        "  def validate(self):\n",
        "    return self._validator.validate(self._input)\n",
        "\n",
        "class NumberValidator():\n",
        "  \"\"\"Check if input is a number or not\"\"\"\n",
        "  def validate(self,input):\n",
        "    int_or_not = None\n",
        "    try:\n",
        "      user_input = int(input)\n",
        "      print(\"Input \"+str(input)+\" is a number\")\n",
        "      int_or_not = True\n",
        "    except ValueError:\n",
        "      print(\"Input \"+str(input)+\" is not a number\")\n",
        "      int_or_not = False\n",
        "\n",
        "    return int_or_not\n"
      ],
      "metadata": {
        "id": "Jz_sBnem-Eqr"
      },
      "execution_count": 14,
      "outputs": []
    },
    {
      "cell_type": "code",
      "source": [
        "ival = InterceptValidator()\n",
        "ival.set_validator(NumberValidator())\n",
        "ival.validate()"
      ],
      "metadata": {
        "colab": {
          "base_uri": "https://localhost:8080/"
        },
        "id": "TDQd2Plh-Evx",
        "outputId": "a65d05ac-573e-465c-d048-98148db006d0"
      },
      "execution_count": 15,
      "outputs": [
        {
          "output_type": "stream",
          "name": "stdout",
          "text": [
            "Input 2 is a number\n"
          ]
        },
        {
          "output_type": "execute_result",
          "data": {
            "text/plain": [
              "True"
            ]
          },
          "metadata": {},
          "execution_count": 15
        }
      ]
    },
    {
      "cell_type": "code",
      "source": [],
      "metadata": {
        "id": "CVJGiT9kDifi"
      },
      "execution_count": null,
      "outputs": []
    }
  ]
}