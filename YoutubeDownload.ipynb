{
  "nbformat": 4,
  "nbformat_minor": 0,
  "metadata": {
    "colab": {
      "name": "YoutubeDownload.ipynb",
      "provenance": [],
      "collapsed_sections": [],
      "toc_visible": true,
      "include_colab_link": true
    },
    "kernelspec": {
      "name": "python3",
      "display_name": "Python 3"
    }
  },
  "cells": [
    {
      "cell_type": "markdown",
      "metadata": {
        "id": "view-in-github",
        "colab_type": "text"
      },
      "source": [
        "<a href=\"https://colab.research.google.com/github/IkeSalmonson/colabCodes/blob/main/YoutubeDownload.ipynb\" target=\"_parent\"><img src=\"https://colab.research.google.com/assets/colab-badge.svg\" alt=\"Open In Colab\"/></a>"
      ]
    },
    {
      "cell_type": "markdown",
      "metadata": {
        "id": "3jL2pbOzMjzg"
      },
      "source": [
        "Instruções:\n",
        " - Rodar a parte \"Obrigatório\" \n",
        " - Verificar se o Drive esta montado \n",
        " - Definir a pasta de destino\n",
        " - Definir a lista de videos para download\n",
        "\n"
      ]
    },
    {
      "cell_type": "code",
      "metadata": {
        "id": "w9mHKqkPNOvT",
        "colab": {
          "base_uri": "https://localhost:8080/"
        },
        "outputId": "c40ade19-912f-4d8f-cced-dae1dd0dbd91"
      },
      "source": [
        "!pip install --quiet pytube \n"
      ],
      "execution_count": null,
      "outputs": [
        {
          "output_type": "stream",
          "text": [
            "\u001b[?25l\r\u001b[K     |██████                          | 10kB 10.1MB/s eta 0:00:01\r\u001b[K     |████████████                    | 20kB 12.4MB/s eta 0:00:01\r\u001b[K     |██████████████████              | 30kB 14.1MB/s eta 0:00:01\r\u001b[K     |████████████████████████        | 40kB 10.8MB/s eta 0:00:01\r\u001b[K     |██████████████████████████████  | 51kB 9.5MB/s eta 0:00:01\r\u001b[K     |████████████████████████████████| 61kB 4.4MB/s \n",
            "\u001b[?25h"
          ],
          "name": "stdout"
        }
      ]
    },
    {
      "cell_type": "markdown",
      "metadata": {
        "id": "7neB-ThRXdUa"
      },
      "source": [
        "# Obrigatório\n",
        " - Caso ocorre um erro tipo \" pytube not found\" rodar a celula acima com  pip install pytube e rodar o obrigatorio novamente"
      ]
    },
    {
      "cell_type": "code",
      "metadata": {
        "id": "5xfNV0axMgh3"
      },
      "source": [
        "import os\n",
        "from google.colab import drive #Se não montar o drive automaticamente na pasta clicar no botão em \"files/mountDrive\"\n",
        "import time\n",
        "\n",
        "from pytube import YouTube\n",
        "from pytube import Stream\n",
        "import pytube"
      ],
      "execution_count": null,
      "outputs": []
    },
    {
      "cell_type": "code",
      "metadata": {
        "id": "MzHN-hm6EIRE",
        "colab": {
          "base_uri": "https://localhost:8080/"
        },
        "outputId": "25d45dbe-c51f-42ef-a6fc-0ac49e104292"
      },
      "source": [
        "from google.colab import drive\n",
        "drive.mount('/content/drive')"
      ],
      "execution_count": null,
      "outputs": [
        {
          "output_type": "stream",
          "text": [
            "Mounted at /content/drive\n"
          ],
          "name": "stdout"
        }
      ]
    },
    {
      "cell_type": "markdown",
      "metadata": {
        "id": "EymkjL3cXhmA"
      },
      "source": [
        "# Configuração : \n",
        " - drive_path: local onde o arquivo será salvo. Sempre começa com \"content/drive/My Drive/...\"\n",
        " - Se o drive não estiver aparecendo a esquerda, clicar em \"files\" no botão \"mount drive\" \n",
        "\n",
        " - Lista de videos ( videoList ) : \n",
        "\n",
        "\n",
        "1.    adicione os videos pelo form \"Aperte play e cole o link...\"\n",
        "\n",
        "Ou\n",
        "2.   Colocar o link para o video entre aspas e separados por virgulas Ex:\n",
        "\n",
        "```\n",
        "videoList = [\"https://www.youtube.com/watch?v=qJLfCIoyxps\" , \n",
        "             \"https://www.youtube.com/watch?v=VFVK1cd9P2k\" ,\n",
        "             \"https://www.youtube.com/watch?v=ZeIr0FVJwGs\"]\n",
        "```\n",
        "\n",
        " "
      ]
    },
    {
      "cell_type": "code",
      "metadata": {
        "id": "wIOXa6iONWco"
      },
      "source": [
        "drive_path = \"/content/drive/My Drive/YoutubeDownloads/\"\n",
        "\n",
        "videoList = [\n",
        "                        \n",
        "          ]"
      ],
      "execution_count": 41,
      "outputs": []
    },
    {
      "cell_type": "code",
      "metadata": {
        "colab": {
          "base_uri": "https://localhost:8080/"
        },
        "cellView": "form",
        "id": "v8MVvpSwU-st",
        "outputId": "5eaef0ee-b6b0-42b0-deb4-001e5fbefe74"
      },
      "source": [
        "#@title Aperte play e cole o link do video para cada video\n",
        "videoList.append(input())"
      ],
      "execution_count": 40,
      "outputs": [
        {
          "output_type": "stream",
          "text": [
            "https://www.youtube.com/watch?v=c7BVtGnlxT8\n"
          ],
          "name": "stdout"
        }
      ]
    },
    {
      "cell_type": "code",
      "metadata": {
        "colab": {
          "base_uri": "https://localhost:8080/"
        },
        "id": "Qwn_tHAtSOoY",
        "outputId": "415c96f0-b488-4b1c-b2e2-228e4ee1d3c6"
      },
      "source": [
        "# Teste para verificar se a Stream de video esta disponivel \n",
        "for video in videoList:\n",
        "  yt= YouTube(video)\n",
        "  print(yt.streams.filter(progressive=True, file_extension='mp4'))"
      ],
      "execution_count": 39,
      "outputs": [
        {
          "output_type": "stream",
          "text": [
            "[<Stream: itag=\"18\" mime_type=\"video/mp4\" res=\"360p\" fps=\"30fps\" vcodec=\"avc1.42001E\" acodec=\"mp4a.40.2\" progressive=\"True\" type=\"video\">]\n",
            "[<Stream: itag=\"18\" mime_type=\"video/mp4\" res=\"360p\" fps=\"30fps\" vcodec=\"avc1.42001E\" acodec=\"mp4a.40.2\" progressive=\"True\" type=\"video\">]\n",
            "[<Stream: itag=\"18\" mime_type=\"video/mp4\" res=\"360p\" fps=\"30fps\" vcodec=\"avc1.42001E\" acodec=\"mp4a.40.2\" progressive=\"True\" type=\"video\">]\n"
          ],
          "name": "stdout"
        }
      ]
    },
    {
      "cell_type": "markdown",
      "metadata": {
        "id": "Mc9UJPUgYqLt"
      },
      "source": [
        "# Rodar uma vez para fazer o donwload"
      ]
    },
    {
      "cell_type": "code",
      "metadata": {
        "id": "xWYrIoT0N6U1",
        "colab": {
          "base_uri": "https://localhost:8080/"
        },
        "outputId": "dc5bf226-3829-4cc6-e252-11799c448a1a"
      },
      "source": [
        "\n",
        "\n",
        "for video in videoList:\n",
        "  yt= YouTube(video)\n",
        "  try:\n",
        "    dl_stream = yt.streams.filter(progressive=True, file_extension='mp4', resolution=\"720p\").order_by('resolution').desc().first().download(output_path =drive_path) # Para filtra somente formato de audio e video mesclados\n",
        "    print(dl_stream)\n",
        "    time.sleep(3)\n",
        "  except:\n",
        "    dl_stream = yt.streams.filter(progressive=True, file_extension='mp4').order_by('resolution').desc().first().download(output_path =drive_path) # Para filtra somente formato de audio e video mesclados\n",
        "    print(dl_stream)\n",
        "    time.sleep(3) \n"
      ],
      "execution_count": 36,
      "outputs": [
        {
          "output_type": "stream",
          "text": [
            "/content/drive/My Drive/YoutubeDownloads/Mario kid hits head.mp4\n",
            "/content/drive/My Drive/YoutubeDownloads/why do I hear boss music (original).mp4\n"
          ],
          "name": "stdout"
        }
      ]
    },
    {
      "cell_type": "markdown",
      "metadata": {
        "id": "x29tyPsbXD46"
      },
      "source": [
        "# Referencias para desenvolvimento\n",
        "\n",
        "https://github.com/nficano/pytube \n",
        "\n",
        "https://github.com/nficano/pytube/blob/master/README.md\n",
        "\n",
        "https://github.com/pytube/pytube/issues/912 << Erro para videos muito novos, pois não tem a Stream no formato esperado"
      ]
    }
  ]
}